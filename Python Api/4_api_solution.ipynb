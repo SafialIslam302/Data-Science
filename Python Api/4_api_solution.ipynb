{
 "cells": [
  {
   "cell_type": "markdown",
   "metadata": {},
   "source": [
    "# Scraping Data from WWW Exercises"
   ]
  },
  {
   "cell_type": "markdown",
   "metadata": {},
   "source": [
    "## Exercise 1"
   ]
  },
  {
   "cell_type": "markdown",
   "metadata": {},
   "source": [
    "Using [Open APIs From Space](http://open-notify.org) output the current latitude and longitute of the International Space Station and number of its crew members and their names.\n",
    "\n",
    "**Hints:**\n",
    "\n",
    "* Check [API documentation](http://api.open-notify.org).\n",
    "* User `requests` library to query the API.\n",
    "* The API returns responses in JSON format. To use retrieved JSON a a Python dictionary, apply `respose.json()`, where `response` is a variable holding the results of `requests.get(<url>)` request."
   ]
  },
  {
   "cell_type": "code",
   "execution_count": 1,
   "metadata": {},
   "outputs": [
    {
     "name": "stdout",
     "output_type": "stream",
     "text": [
      "Current ISS position: longitude: 70.8894, latitude: -4.1857\n"
     ]
    }
   ],
   "source": [
    "import requests\n",
    "\n",
    "response = requests.get(\"http://api.open-notify.org/iss-now.json\")\n",
    "data = response.json()\n",
    "print('Current ISS position: longitude: ' + \n",
    "      data['iss_position']['longitude'] + ', latitude: ' +\n",
    "      data['iss_position']['latitude'])\n",
    "\n"
   ]
  },
  {
   "cell_type": "code",
   "execution_count": 2,
   "metadata": {},
   "outputs": [
    {
     "name": "stdout",
     "output_type": "stream",
     "text": [
      "Number of crew members on ISS: 6\n",
      "Crew member 10: Christina Koch\n",
      "Crew member 11: Alexander Skvortsov\n",
      "Crew member 12: Luca Parmitano\n",
      "Crew member 13: Andrew Morgan\n",
      "Crew member 14: Oleg Skripochka\n",
      "Crew member 15: Jessica Meir\n"
     ]
    }
   ],
   "source": [
    "response = requests.get(\"http://api.open-notify.org/astros.json\")\n",
    "data = response.json()\n",
    "\n",
    "crew_num = data[\"number\"]\n",
    "print('Number of crew members on ISS: ' + str(crew_num))\n",
    "\n",
    "for i in range(crew_num):\n",
    "    print('Crew member ' + str(i+10) + \n",
    "          ': ' + data['people'][i]['name'])"
   ]
  },
  {
   "cell_type": "markdown",
   "metadata": {},
   "source": [
    "## Exercise 2"
   ]
  },
  {
   "cell_type": "markdown",
   "metadata": {},
   "source": [
    "List 10 popular latest tweets of Donald Trump (with more than 1000000 retweets)\n",
    "\n",
    "**Hints:**\n",
    "\n",
    "* Before you can access Twitter API you need to register a new Twitter app, which since July 2018 requires an approval from Twitter team. Twitter app provides you with Customer key and secret and Application key and secret. For the sake of simplicity use keys and secrets provided in the code below (variables `cKey`, `cSecret`, `aKey`, `aSecret`).\n",
    "* You may use [python-twitter](https://github.com/bear/python-twitter) library that can be installed by running `pip install python-twitter` in your Anaconda environment's terminal.\n",
    "* Be aware of [rate limits](https://dev.twitter.com/rest/public/rate-limiting), so try not to make to many calls to the API to avoid exhausting you 15 minutes window limit."
   ]
  },
  {
   "cell_type": "code",
   "execution_count": 3,
   "metadata": {},
   "outputs": [],
   "source": [
    "import twitter\n",
    "\n",
    "# Customer key and secret\n",
    "cKey = 'tOZWzonsap454dtjS1aHy17Bd'\n",
    "cSecret = 'fRVCa1WpS8lapp9pVQdr82X4UamEsfMLDoobm0kkN9yepg8chz'\n",
    "\n",
    "# Application key and secret\n",
    "aKey = '560363551-rDPjiQQ91OW4x8YE5OS8QySkmwus9SM8IBuTNF6J'\n",
    "aSecret = 'bU1cAoGTFIeoRbZkz23eeazy98rWZ5THzM43DsB3cBvms'\n",
    "\n",
    "## create the api object with the twitter-python library\n",
    "api = twitter.Api(consumer_key=cKey, consumer_secret=cSecret, \n",
    "                  access_token_key=aKey, access_token_secret=aSecret, tweet_mode=\"extended\")"
   ]
  },
  {
   "cell_type": "markdown",
   "metadata": {},
   "source": [
    "get timeline for user with screen_name 'realDonaldTrump'"
   ]
  },
  {
   "cell_type": "code",
   "execution_count": 4,
   "metadata": {},
   "outputs": [],
   "source": [
    "twitter_statuses = api.GetUserTimeline(\n",
    "        screen_name = 'realDonaldTrump')\n",
    "statuses = [t.AsDict() for t in twitter_statuses]"
   ]
  },
  {
   "cell_type": "markdown",
   "metadata": {},
   "source": [
    "Get tweets with `retweet_count` larger than 1000000, which we will be considering as popular.\n",
    "\n",
    "But first, let's examine a structure of *status* dictionary:"
   ]
  },
  {
   "cell_type": "code",
   "execution_count": 5,
   "metadata": {},
   "outputs": [
    {
     "data": {
      "text/plain": [
       "{'created_at': 'Fri Nov 15 04:52:17 +0000 2019',\n",
       " 'favorite_count': 38196,\n",
       " 'full_text': '....Ambassador Sondland did not tell us, and certainly did not tell me, about a connection between the assistance and the investigation.” THE FAKE IMPEACHMENT INQUIRY IS NOW DEAD!',\n",
       " 'hashtags': [],\n",
       " 'id': 1195202838361624577,\n",
       " 'id_str': '1195202838361624577',\n",
       " 'in_reply_to_screen_name': 'realDonaldTrump',\n",
       " 'in_reply_to_status_id': 1195202834645405698,\n",
       " 'in_reply_to_user_id': 25073877,\n",
       " 'lang': 'en',\n",
       " 'retweet_count': 10573,\n",
       " 'source': '<a href=\"http://twitter.com/download/iphone\" rel=\"nofollow\">Twitter for iPhone</a>',\n",
       " 'urls': [],\n",
       " 'user': {'created_at': 'Wed Mar 18 13:46:38 +0000 2009',\n",
       "  'description': '45th President of the United States of America🇺🇸',\n",
       "  'favourites_count': 6,\n",
       "  'followers_count': 66801050,\n",
       "  'following': True,\n",
       "  'friends_count': 47,\n",
       "  'geo_enabled': True,\n",
       "  'id': 25073877,\n",
       "  'id_str': '25073877',\n",
       "  'listed_count': 110692,\n",
       "  'location': 'Washington, DC',\n",
       "  'name': 'Donald J. Trump',\n",
       "  'profile_background_color': '6D5C18',\n",
       "  'profile_background_image_url': 'http://abs.twimg.com/images/themes/theme1/bg.png',\n",
       "  'profile_background_image_url_https': 'https://abs.twimg.com/images/themes/theme1/bg.png',\n",
       "  'profile_background_tile': True,\n",
       "  'profile_banner_url': 'https://pbs.twimg.com/profile_banners/25073877/1560920145',\n",
       "  'profile_image_url': 'http://pbs.twimg.com/profile_images/874276197357596672/kUuht00m_normal.jpg',\n",
       "  'profile_image_url_https': 'https://pbs.twimg.com/profile_images/874276197357596672/kUuht00m_normal.jpg',\n",
       "  'profile_link_color': '1B95E0',\n",
       "  'profile_sidebar_border_color': 'BDDCAD',\n",
       "  'profile_sidebar_fill_color': 'C5CEC0',\n",
       "  'profile_text_color': '333333',\n",
       "  'profile_use_background_image': True,\n",
       "  'screen_name': 'realDonaldTrump',\n",
       "  'statuses_count': 46128,\n",
       "  'url': 'https://t.co/OMxB0x7xC5',\n",
       "  'verified': True},\n",
       " 'user_mentions': []}"
      ]
     },
     "execution_count": 5,
     "metadata": {},
     "output_type": "execute_result"
    }
   ],
   "source": [
    "statuses[0]"
   ]
  },
  {
   "cell_type": "code",
   "execution_count": 6,
   "metadata": {},
   "outputs": [],
   "source": [
    "maybe_interesting = []\n",
    "for status in statuses:\n",
    "    if status['retweet_count'] > 10000:\n",
    "        maybe_interesting.append(status)\n",
    "\n",
    "# same using `filter`        \n",
    "# maybe_interesting = \\\n",
    "#    filter(lambda status: \n",
    "#        status['retweet_count']>50000, \n",
    "#        statuses)"
   ]
  },
  {
   "cell_type": "markdown",
   "metadata": {},
   "source": [
    "Get rid of everything except texts of those tweets and print them."
   ]
  },
  {
   "cell_type": "code",
   "execution_count": 7,
   "metadata": {},
   "outputs": [
    {
     "name": "stdout",
     "output_type": "stream",
     "text": [
      "######\n",
      "....Ambassador Sondland did not tell us, and certainly did not tell me, about a connection between the assistance and the investigation.” THE FAKE IMPEACHMENT INQUIRY IS NOW DEAD!\n"
     ]
    }
   ],
   "source": [
    "tweet_texts = list(map(lambda status: \n",
    "                       status['full_text'], \n",
    "                       maybe_interesting))\n",
    "for t in tweet_texts[:10]:\n",
    "    print('######')\n",
    "    print(t)"
   ]
  },
  {
   "cell_type": "code",
   "execution_count": null,
   "metadata": {},
   "outputs": [],
   "source": []
  }
 ],
 "metadata": {
  "kernelspec": {
   "display_name": "Python 3",
   "language": "python",
   "name": "python3"
  },
  "language_info": {
   "codemirror_mode": {
    "name": "ipython",
    "version": 3
   },
   "file_extension": ".py",
   "mimetype": "text/x-python",
   "name": "python",
   "nbconvert_exporter": "python",
   "pygments_lexer": "ipython3",
   "version": "3.8.3"
  }
 },
 "nbformat": 4,
 "nbformat_minor": 2
}

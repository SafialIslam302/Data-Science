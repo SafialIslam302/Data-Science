{
 "cells": [
  {
   "cell_type": "markdown",
   "metadata": {
    "slideshow": {
     "slide_type": "slide"
    }
   },
   "source": [
    "# Functions"
   ]
  },
  {
   "cell_type": "markdown",
   "metadata": {
    "slideshow": {
     "slide_type": "slide"
    }
   },
   "source": [
    "## Functions\n",
    "\n",
    "A *function* is a block of code which only runs when it is called. Data can be passed into a function in form of paramenters. A function returns data as a result.\n",
    "\n",
    "* `def` creates a function and assigns it a name,\n",
    "* `return` sends a result back to the caller,\n",
    "* arguments are passed by assignment,\n",
    "* arguments and return types are not declared,\n",
    "* to execute a function it must be called.\n",
    "\n",
    "``` python\n",
    "def <name>(param1, param2, ..., paramN):\n",
    "    <statements> return <value> \n",
    "\n",
    "<name>(arg1, arg2, ..., argN)\n",
    "```"
   ]
  },
  {
   "cell_type": "code",
   "execution_count": 5,
   "metadata": {
    "slideshow": {
     "slide_type": "subslide"
    }
   },
   "outputs": [
    {
     "data": {
      "text/plain": [
       "7"
      ]
     },
     "execution_count": 5,
     "metadata": {},
     "output_type": "execute_result"
    }
   ],
   "source": [
    "def times(x, y):\n",
    "    \"\"\" This function adds x and y \"\"\"\n",
    "    res = x + y\n",
    "    return res\n",
    "\n",
    "times(3, 4)    # this is how a function is called"
   ]
  },
  {
   "cell_type": "markdown",
   "metadata": {
    "slideshow": {
     "slide_type": "slide"
    }
   },
   "source": [
    "## Passing arguments to a function\n",
    "\n",
    "* Arguments are passed to a function by *assignment*,\n",
    "* Passed arguments are assigned to local names,\n",
    "* Assignment to argument names don't affect the caller,\n",
    "* Changing a *mutable* argument *may affect* the caller,\n",
    "* Changing an *immutable* argument *does not affect* the caller,\n",
    "* Read https://jeffknupp.com/blog/2012/11/13/is-python-callbyvalue-or-callbyreference-neither/ for more details"
   ]
  },
  {
   "cell_type": "markdown",
   "metadata": {
    "slideshow": {
     "slide_type": "slide"
    }
   },
   "source": [
    "## Passing an immutable object to a function\n",
    "\n",
    "Passing an immutable object (string) to a function and changing its value within a function does not change the original object:"
   ]
  },
  {
   "cell_type": "code",
   "execution_count": 7,
   "metadata": {
    "slideshow": {
     "slide_type": "fragment"
    }
   },
   "outputs": [
    {
     "name": "stdout",
     "output_type": "stream",
     "text": [
      "new value\n",
      "old value\n"
     ]
    }
   ],
   "source": [
    "def foo(bar):\n",
    "    bar = 'new value'\n",
    "    print (bar)\n",
    "\n",
    "answer_str = 'old value'\n",
    "foo(answer_str)\n",
    "print(answer_str)"
   ]
  },
  {
   "cell_type": "markdown",
   "metadata": {
    "slideshow": {
     "slide_type": "slide"
    }
   },
   "source": [
    "## Passing a mutable object to a function\n",
    "\n",
    "Passing a mutable object (e.g., list) to a function and changing its element within a function changes the original list:"
   ]
  },
  {
   "cell_type": "code",
   "execution_count": 8,
   "metadata": {
    "slideshow": {
     "slide_type": "fragment"
    }
   },
   "outputs": [
    {
     "name": "stdout",
     "output_type": "stream",
     "text": [
      "[42]\n",
      "[42]\n"
     ]
    }
   ],
   "source": [
    "def foo(bar):\n",
    "    bar.append(42)\n",
    "    print(bar)\n",
    "\n",
    "answer_list = []\n",
    "foo(answer_list)\n",
    "print(answer_list)"
   ]
  },
  {
   "cell_type": "markdown",
   "metadata": {
    "slideshow": {
     "slide_type": "slide"
    }
   },
   "source": [
    "## Optional paramenters\n",
    "\n",
    "Functions can define defaults for parameters that need not be passed"
   ]
  },
  {
   "cell_type": "code",
   "execution_count": 9,
   "metadata": {
    "slideshow": {
     "slide_type": "fragment"
    }
   },
   "outputs": [
    {
     "name": "stdout",
     "output_type": "stream",
     "text": [
      "1 2 10 100\n",
      "1 2 3 4\n"
     ]
    }
   ],
   "source": [
    "def func(a, b, c=10, d=100):\n",
    "  print(a, b, c, d)\n",
    "\n",
    "func(1,2)\n",
    "func(1,2,3,4)"
   ]
  },
  {
   "cell_type": "markdown",
   "metadata": {
    "slideshow": {
     "slide_type": "slide"
    }
   },
   "source": [
    "## More on functions\n",
    "\n",
    "* All functions in Python have a return value \n",
    "    * functions without a return return the special value: `None`\n",
    "* There is no function overloading in Python (as compared to e.g., C++):\n",
    "    * two different functions can’t have the same name, even if they have different arguments. \n",
    "* Functions are *first class objects* in Python and can be used as any other data type. `def` statement simply assigns a function to a variable. Functions can be: \n",
    "    * arguments to function,\n",
    "    * return values of functions,\n",
    "    * assigned to variables,\n",
    "    * parts of tuples, lists, etc."
   ]
  },
  {
   "cell_type": "markdown",
   "metadata": {
    "slideshow": {
     "slide_type": "slide"
    }
   },
   "source": [
    "## Function names are variables\n",
    "\n",
    "* Functions are objects.\n",
    "* The same reference rules hold for them as for other objects."
   ]
  },
  {
   "cell_type": "code",
   "execution_count": 14,
   "metadata": {
    "slideshow": {
     "slide_type": "fragment"
    }
   },
   "outputs": [
    {
     "data": {
      "text/plain": [
       "10"
      ]
     },
     "execution_count": 14,
     "metadata": {},
     "output_type": "execute_result"
    }
   ],
   "source": [
    "x = 10\n",
    "x"
   ]
  },
  {
   "cell_type": "code",
   "execution_count": 1,
   "metadata": {
    "slideshow": {
     "slide_type": "fragment"
    }
   },
   "outputs": [
    {
     "data": {
      "text/plain": [
       "<function __main__.x()>"
      ]
     },
     "execution_count": 1,
     "metadata": {},
     "output_type": "execute_result"
    }
   ],
   "source": [
    "def x () : \n",
    "    print('hello')\n",
    "x"
   ]
  },
  {
   "cell_type": "code",
   "execution_count": 16,
   "metadata": {
    "slideshow": {
     "slide_type": "fragment"
    }
   },
   "outputs": [
    {
     "name": "stdout",
     "output_type": "stream",
     "text": [
      "hello\n"
     ]
    }
   ],
   "source": [
    "x()"
   ]
  },
  {
   "cell_type": "code",
   "execution_count": 17,
   "metadata": {
    "slideshow": {
     "slide_type": "fragment"
    }
   },
   "outputs": [
    {
     "data": {
      "text/plain": [
       "'blah'"
      ]
     },
     "execution_count": 17,
     "metadata": {},
     "output_type": "execute_result"
    }
   ],
   "source": [
    "x = 'blah'\n",
    "x"
   ]
  },
  {
   "cell_type": "markdown",
   "metadata": {
    "slideshow": {
     "slide_type": "slide"
    }
   },
   "source": [
    "## Functions as arguments\n",
    "\n",
    "Function `foo` takes two parameters and applies the first as a function with the second as its argument 🤯"
   ]
  },
  {
   "cell_type": "code",
   "execution_count": 19,
   "metadata": {
    "scrolled": true,
    "slideshow": {
     "slide_type": "fragment"
    }
   },
   "outputs": [
    {
     "name": "stdout",
     "output_type": "stream",
     "text": [
      "4\n"
     ]
    }
   ],
   "source": [
    "def foo(f, a):\n",
    "    res = f(a)\n",
    "    return res\n",
    "\n",
    "def bar(x):\n",
    "    return x * x\n",
    "\n",
    "res = foo(f=bar, a=2)\n",
    "print(res)"
   ]
  },
  {
   "cell_type": "markdown",
   "metadata": {
    "slideshow": {
     "slide_type": "slide"
    }
   },
   "source": [
    "## Anonymous (lambda) functions\n",
    "\n",
    "* *Anonymous function* is a function that is defined without a name.\n",
    "* While normal functions are defined using `def` keyword, anonymous functions are defined using `lambda` keyword. \n",
    "* Anonymous functions are also called *lambda functions*.\n",
    "* Definition of an anymous function:`lambda arguments: expression`\n",
    "* An anonymous function is a first-class object: it can be passed as an argument to another function or be an element of a list."
   ]
  },
  {
   "cell_type": "markdown",
   "metadata": {
    "slideshow": {
     "slide_type": "slide"
    }
   },
   "source": [
    "## Examples of lambda functions"
   ]
  },
  {
   "cell_type": "code",
   "execution_count": 9,
   "metadata": {
    "slideshow": {
     "slide_type": "fragment"
    }
   },
   "outputs": [
    {
     "data": {
      "text/plain": [
       "10"
      ]
     },
     "execution_count": 9,
     "metadata": {},
     "output_type": "execute_result"
    }
   ],
   "source": [
    "double = lambda x: x * 2\n",
    "double(5)"
   ]
  },
  {
   "cell_type": "code",
   "execution_count": 10,
   "metadata": {
    "slideshow": {
     "slide_type": "fragment"
    }
   },
   "outputs": [
    {
     "data": {
      "text/plain": [
       "5"
      ]
     },
     "execution_count": 10,
     "metadata": {},
     "output_type": "execute_result"
    }
   ],
   "source": [
    "f = lambda x, y: x + y\n",
    "f(2,3)"
   ]
  },
  {
   "cell_type": "markdown",
   "metadata": {
    "slideshow": {
     "slide_type": "slide"
    }
   },
   "source": [
    "## Some built-in higher-order functions\n",
    "\n",
    "A *higher order function* is a fuction that operates on other functions, either by taking a function as its argument, or by returning a function 🤯🤯🤯"
   ]
  },
  {
   "cell_type": "markdown",
   "metadata": {
    "slideshow": {
     "slide_type": "fragment"
    }
   },
   "source": [
    "* `map` - applies a function to all elements of a sequence resulting in a sequence\n",
    "* `filter` - selects elements from a sequence based on a condition defined as a function resulting in a sequence\n",
    "* `reduce` - sequentially applies a function to two elemens of a sequence resulting in a single value"
   ]
  },
  {
   "cell_type": "markdown",
   "metadata": {
    "slideshow": {
     "slide_type": "slide"
    }
   },
   "source": [
    "## `map` function: definition\n",
    "\n",
    "* **Python documentation**: `map(function, iterable, ...)` - returns an *iterator* that applies `function` to every item of `iterable`, yielding the results. If additional iterable arguments are passed, function must take that many arguments and is applied to the items from all iterables in parallel. With multiple iterables, the iterator stops when the shortest iterable is exhausted.\n",
    "* **Simpler definition**: `map(function, sequence)` – for all `i`, applies `function(sequence[i])` and returns an *iterator* that can be converted to a sequence that contains the results.\n",
    "    * E.g., use `list()` to get a list as a result : `list(map(…))`"
   ]
  },
  {
   "cell_type": "markdown",
   "metadata": {
    "slideshow": {
     "slide_type": "slide"
    }
   },
   "source": [
    "## `map` function: examples"
   ]
  },
  {
   "cell_type": "code",
   "execution_count": 8,
   "metadata": {
    "slideshow": {
     "slide_type": "fragment"
    }
   },
   "outputs": [
    {
     "name": "stdout",
     "output_type": "stream",
     "text": [
      "range(0, 10)\n",
      "[0, 2, 4, 6, 8, 10, 12, 14, 16, 18]\n"
     ]
    }
   ],
   "source": [
    "def double(x):\n",
    "  return 2*x\n",
    "\n",
    "print(lst)\n",
    "res = list(map(double, lst))\n",
    "print(res)"
   ]
  },
  {
   "cell_type": "markdown",
   "metadata": {
    "slideshow": {
     "slide_type": "fragment"
    }
   },
   "source": [
    "Alternatively, the same can be achieved by using an anonymous function"
   ]
  },
  {
   "cell_type": "code",
   "execution_count": 6,
   "metadata": {
    "scrolled": true,
    "slideshow": {
     "slide_type": "fragment"
    }
   },
   "outputs": [
    {
     "name": "stdout",
     "output_type": "stream",
     "text": [
      "[0, 2, 4, 6, 8, 10, 12, 14, 16, 18]\n"
     ]
    }
   ],
   "source": [
    "lst = range(10)\n",
    "res = list(map(lambda x: 2*x, lst))\n",
    "print(res)"
   ]
  },
  {
   "cell_type": "markdown",
   "metadata": {
    "slideshow": {
     "slide_type": "slide"
    }
   },
   "source": [
    "## `filter` function: definition\n",
    "\n",
    "* **Python documentation:** `filter(function, iterable)` - constructs an iterator from those elements of iterable for which `function` returns `True`. `iterable` may be either a sequence, a container which supports iteration, or an iterator.\n",
    "* **Simpler defintion:** `filter(function, sequence)` returns a *iterator* containing all those items in `sequence` for which `function` is True, where `function` is a function that returns `True` or `False`.\n",
    "    *  The resulting *iteratort* can be converted to a sequence that contains the results by using a corresponding function: `list`, `tuple`."
   ]
  },
  {
   "cell_type": "markdown",
   "metadata": {
    "slideshow": {
     "slide_type": "slide"
    }
   },
   "source": [
    "## `filter` function: examples"
   ]
  },
  {
   "cell_type": "code",
   "execution_count": 2,
   "metadata": {
    "slideshow": {
     "slide_type": "fragment"
    }
   },
   "outputs": [
    {
     "data": {
      "text/plain": [
       "[0, 2, 4, 6, 8]"
      ]
     },
     "execution_count": 2,
     "metadata": {},
     "output_type": "execute_result"
    }
   ],
   "source": [
    "def even(x):\n",
    "    return (x%2 == 0)\n",
    "\n",
    "lst = range(10)\n",
    "list(filter(even, lst))"
   ]
  },
  {
   "cell_type": "markdown",
   "metadata": {
    "slideshow": {
     "slide_type": "slide"
    }
   },
   "source": [
    "## `reduce` function: definition\n",
    "\n",
    "* **Python definition** `functools.reduce(function, iterable[, initializer])`\n",
    "    * applies `function` of two arguments cumulatively to the items of `iterable`, from left to right, so as to reduce the iterable to a single value. \n",
    "    * For example, `reduce(lambda x, y: x+y, [1, 2, 3, 4, 5])` calculates `((((1+2)+3)+4)+5)`. \n",
    "    * The left argument, `x`, is the accumulated value and the right argument, `y`, is the update value from the iterable. \n",
    "    * If the optional `initializer` is present, it is placed before the items of the iterable in the calculation, and serves as a default when the iterable is empty. If `initializer` is not given and iterable contains only one item, the first item is returned."
   ]
  },
  {
   "cell_type": "markdown",
   "metadata": {
    "slideshow": {
     "slide_type": "slide"
    }
   },
   "source": [
    "## `reduce` function: examples"
   ]
  },
  {
   "cell_type": "code",
   "execution_count": 17,
   "metadata": {
    "slideshow": {
     "slide_type": "fragment"
    }
   },
   "outputs": [
    {
     "name": "stdout",
     "output_type": "stream",
     "text": [
      "45\n"
     ]
    }
   ],
   "source": [
    "from functools import reduce\n",
    "\n",
    "def plus(x, y):\n",
    "  return x + y\n",
    "\n",
    "lst = range(10)\n",
    "print(reduce(plus, lst))"
   ]
  }
 ],
 "metadata": {
  "celltoolbar": "Slideshow",
  "kernel_info": {
   "name": "python3"
  },
  "kernelspec": {
   "display_name": "Python 3",
   "language": "python",
   "name": "python3"
  },
  "language_info": {
   "codemirror_mode": {
    "name": "ipython",
    "version": 3
   },
   "file_extension": ".py",
   "mimetype": "text/x-python",
   "name": "python",
   "nbconvert_exporter": "python",
   "pygments_lexer": "ipython3",
   "version": "3.8.3"
  },
  "nteract": {
   "version": "0.12.2"
  }
 },
 "nbformat": 4,
 "nbformat_minor": 2
}
